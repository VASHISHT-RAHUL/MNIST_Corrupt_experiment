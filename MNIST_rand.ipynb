{
  "nbformat": 4,
  "nbformat_minor": 0,
  "metadata": {
    "kernelspec": {
      "name": "python3",
      "display_name": "Python 3"
    },
    "language_info": {
      "codemirror_mode": {
        "name": "ipython",
        "version": 3
      },
      "file_extension": ".py",
      "mimetype": "text/x-python",
      "name": "python",
      "nbconvert_exporter": "python",
      "pygments_lexer": "ipython3",
      "version": "3.7.0"
    },
    "colab": {
      "name": "MNIST_rand.ipynb",
      "provenance": [],
      "collapsed_sections": []
    },
    "accelerator": "GPU"
  },
  "cells": [
    {
      "cell_type": "code",
      "metadata": {
        "id": "lR-eQfx0acq8",
        "colab_type": "code",
        "colab": {}
      },
      "source": [
        "import numpy as np\n",
        "import pandas as pd\n",
        "from matplotlib import pyplot as plt\n",
        "from tqdm import tqdm as tqdm\n",
        "\n",
        "%matplotlib inline\n",
        "\n",
        "import torch\n",
        "import torchvision\n",
        "\n",
        "import torchvision.transforms as transforms\n",
        "import torch.nn as nn\n",
        "import torch.optim as optim\n",
        "import torch.nn.functional as F\n",
        "import random"
      ],
      "execution_count": 0,
      "outputs": []
    },
    {
      "cell_type": "code",
      "metadata": {
        "id": "HxCE5TSmap0T",
        "colab_type": "code",
        "outputId": "2c625430-e0ad-40f1-fb54-9108d2305021",
        "colab": {
          "base_uri": "https://localhost:8080/",
          "height": 125
        }
      },
      "source": [
        "from google.colab import drive\n",
        "drive.mount('/content/drive')"
      ],
      "execution_count": 2,
      "outputs": [
        {
          "output_type": "stream",
          "text": [
            "Go to this URL in a browser: https://accounts.google.com/o/oauth2/auth?client_id=947318989803-6bn6qk8qdgf4n4g3pfee6491hc0brc4i.apps.googleusercontent.com&redirect_uri=urn%3Aietf%3Awg%3Aoauth%3A2.0%3Aoob&scope=email%20https%3A%2F%2Fwww.googleapis.com%2Fauth%2Fdocs.test%20https%3A%2F%2Fwww.googleapis.com%2Fauth%2Fdrive%20https%3A%2F%2Fwww.googleapis.com%2Fauth%2Fdrive.photos.readonly%20https%3A%2F%2Fwww.googleapis.com%2Fauth%2Fpeopleapi.readonly&response_type=code\n",
            "\n",
            "Enter your authorization code:\n",
            "··········\n",
            "Mounted at /content/drive\n"
          ],
          "name": "stdout"
        }
      ]
    },
    {
      "cell_type": "code",
      "metadata": {
        "id": "yh4EScpqacrC",
        "colab_type": "code",
        "colab": {}
      },
      "source": [
        "transform = transforms.Compose(\n",
        "    [transforms.CenterCrop((28,28)),transforms.ToTensor(),transforms.Normalize([0.5], [0.5])])"
      ],
      "execution_count": 0,
      "outputs": []
    },
    {
      "cell_type": "code",
      "metadata": {
        "id": "YoAqFwqpacrH",
        "colab_type": "code",
        "outputId": "82d13733-a2d1-406d-9ced-016f7d3cbebf",
        "colab": {
          "base_uri": "https://localhost:8080/",
          "height": 567
        }
      },
      "source": [
        "mnist_trainset = torchvision.datasets.MNIST(root='./data', train=True, download=True, transform=transform)\n",
        "mnist_testset = torchvision.datasets.MNIST(root='./data', train=False, download=True, transform=transform)"
      ],
      "execution_count": 4,
      "outputs": [
        {
          "output_type": "stream",
          "text": [
            "\r0it [00:00, ?it/s]"
          ],
          "name": "stderr"
        },
        {
          "output_type": "stream",
          "text": [
            "Downloading http://yann.lecun.com/exdb/mnist/train-images-idx3-ubyte.gz to ./data/MNIST/raw/train-images-idx3-ubyte.gz\n"
          ],
          "name": "stdout"
        },
        {
          "output_type": "stream",
          "text": [
            " 99%|█████████▉| 9814016/9912422 [00:14<00:00, 1211046.67it/s]"
          ],
          "name": "stderr"
        },
        {
          "output_type": "stream",
          "text": [
            "Extracting ./data/MNIST/raw/train-images-idx3-ubyte.gz to ./data/MNIST/raw\n"
          ],
          "name": "stdout"
        },
        {
          "output_type": "stream",
          "text": [
            "\n",
            "0it [00:00, ?it/s]\u001b[A\n",
            "  0%|          | 0/28881 [00:00<?, ?it/s]\u001b[A"
          ],
          "name": "stderr"
        },
        {
          "output_type": "stream",
          "text": [
            "Downloading http://yann.lecun.com/exdb/mnist/train-labels-idx1-ubyte.gz to ./data/MNIST/raw/train-labels-idx1-ubyte.gz\n"
          ],
          "name": "stdout"
        },
        {
          "output_type": "stream",
          "text": [
            "\n",
            "32768it [00:00, 129220.04it/s]           \u001b[A\n",
            "0it [00:00, ?it/s]\u001b[A\n",
            "  0%|          | 0/1648877 [00:00<?, ?it/s]\u001b[A"
          ],
          "name": "stderr"
        },
        {
          "output_type": "stream",
          "text": [
            "Extracting ./data/MNIST/raw/train-labels-idx1-ubyte.gz to ./data/MNIST/raw\n",
            "Downloading http://yann.lecun.com/exdb/mnist/t10k-images-idx3-ubyte.gz to ./data/MNIST/raw/t10k-images-idx3-ubyte.gz\n"
          ],
          "name": "stdout"
        },
        {
          "output_type": "stream",
          "text": [
            "\n",
            "  1%|          | 16384/1648877 [00:00<00:10, 148844.94it/s]\u001b[A\n",
            "  5%|▌         | 90112/1648877 [00:00<00:08, 188120.44it/s]\u001b[A\n",
            " 12%|█▏        | 196608/1648877 [00:00<00:06, 240878.53it/s]\u001b[A\n",
            " 19%|█▉        | 311296/1648877 [00:00<00:04, 302722.37it/s]\u001b[A\n",
            " 27%|██▋       | 442368/1648877 [00:00<00:03, 376189.19it/s]\u001b[A\n",
            " 35%|███▌      | 581632/1648877 [00:01<00:02, 456835.38it/s]\u001b[A\n",
            " 45%|████▍     | 737280/1648877 [00:01<00:01, 544532.26it/s]\u001b[A\n",
            " 55%|█████▌    | 909312/1648877 [00:01<00:01, 646179.23it/s]\u001b[A\n",
            " 67%|██████▋   | 1097728/1648877 [00:01<00:00, 749887.01it/s]\u001b[A\n",
            " 73%|███████▎  | 1196032/1648877 [00:01<00:00, 709355.44it/s]\u001b[A\n",
            " 85%|████████▍ | 1400832/1648877 [00:01<00:00, 839536.45it/s]\u001b[A\n",
            " 94%|█████████▍| 1548288/1648877 [00:01<00:00, 880985.23it/s]\u001b[A\n",
            "1654784it [00:02, 806218.10it/s]                             \u001b[A\n",
            "0it [00:00, ?it/s]\u001b[A"
          ],
          "name": "stderr"
        },
        {
          "output_type": "stream",
          "text": [
            "Extracting ./data/MNIST/raw/t10k-images-idx3-ubyte.gz to ./data/MNIST/raw\n",
            "Downloading http://yann.lecun.com/exdb/mnist/t10k-labels-idx1-ubyte.gz to ./data/MNIST/raw/t10k-labels-idx1-ubyte.gz\n"
          ],
          "name": "stdout"
        },
        {
          "output_type": "stream",
          "text": [
            "\n",
            "  0%|          | 0/4542 [00:00<?, ?it/s]\u001b[A\n",
            "8192it [00:00, 50079.85it/s]            \u001b[A"
          ],
          "name": "stderr"
        },
        {
          "output_type": "stream",
          "text": [
            "Extracting ./data/MNIST/raw/t10k-labels-idx1-ubyte.gz to ./data/MNIST/raw\n",
            "Processing...\n",
            "Done!\n"
          ],
          "name": "stdout"
        }
      ]
    },
    {
      "cell_type": "code",
      "metadata": {
        "id": "56x0FjYZacrM",
        "colab_type": "code",
        "outputId": "c7a47402-9082-480a-b7a6-a24c2e06925b",
        "colab": {
          "base_uri": "https://localhost:8080/",
          "height": 34
        }
      },
      "source": [
        "index1 = [np.where(mnist_trainset.targets==0)[0] , np.where(mnist_trainset.targets==1)[0] ]\n",
        "index1 = np.concatenate(index1,axis=0)\n",
        "len(index1) #12665"
      ],
      "execution_count": 5,
      "outputs": [
        {
          "output_type": "execute_result",
          "data": {
            "text/plain": [
              "12665"
            ]
          },
          "metadata": {
            "tags": []
          },
          "execution_count": 5
        }
      ]
    },
    {
      "cell_type": "code",
      "metadata": {
        "id": "yQOoEO2meJDv",
        "colab_type": "code",
        "colab": {}
      },
      "source": [
        "indices = np.random.choice(index1,12665)"
      ],
      "execution_count": 0,
      "outputs": []
    },
    {
      "cell_type": "code",
      "metadata": {
        "id": "d_8snSm1acrR",
        "colab_type": "code",
        "colab": {}
      },
      "source": [
        "index = np.where(np.logical_and(mnist_trainset.targets!=0,mnist_trainset.targets!=1))[0]  #47335"
      ],
      "execution_count": 0,
      "outputs": []
    },
    {
      "cell_type": "code",
      "metadata": {
        "id": "vYhiSaAnacrW",
        "colab_type": "code",
        "outputId": "0e2f083b-a9f5-4f14-c26d-bf4ad78eb24c",
        "colab": {
          "base_uri": "https://localhost:8080/",
          "height": 34
        }
      },
      "source": [
        "values = np.random.choice([0,1],size= 47335) \n",
        "print(sum(values ==0),sum(values==1))\n"
      ],
      "execution_count": 8,
      "outputs": [
        {
          "output_type": "stream",
          "text": [
            "23650 23685\n"
          ],
          "name": "stdout"
        }
      ]
    },
    {
      "cell_type": "code",
      "metadata": {
        "id": "uLuqrhO1hRR6",
        "colab_type": "code",
        "colab": {}
      },
      "source": [
        "mnist_trainset.data = torch.cat((mnist_trainset.data[indices],mnist_trainset.data[index]))\n",
        "mnist_trainset.targets = torch.cat((mnist_trainset.targets[indices],torch.Tensor(values).type(torch.LongTensor)))"
      ],
      "execution_count": 0,
      "outputs": []
    },
    {
      "cell_type": "code",
      "metadata": {
        "id": "iczET1tohOsL",
        "colab_type": "code",
        "outputId": "49e60298-d5d8-46c4-ad29-a707de608d07",
        "colab": {
          "base_uri": "https://localhost:8080/",
          "height": 286
        }
      },
      "source": [
        "# mnist_trainset.targets[index] = torch.Tensor(values).type(torch.LongTensor)\n",
        "j =20078     # Without Shuffle upto True Training numbers correct , after that corrupted\n",
        "print(plt.imshow(mnist_trainset.data[j]),mnist_trainset.targets[j])"
      ],
      "execution_count": 10,
      "outputs": [
        {
          "output_type": "stream",
          "text": [
            "AxesImage(54,36;334.8x217.44) tensor(0)\n"
          ],
          "name": "stdout"
        },
        {
          "output_type": "display_data",
          "data": {
            "image/png": "[encoded data removed]",
            "text/plain": [
              "<Figure size 432x288 with 1 Axes>"
            ]
          },
          "metadata": {
            "tags": []
          }
        }
      ]
    },
    {
      "cell_type": "code",
      "metadata": {
        "id": "U8WPVHnPacrd",
        "colab_type": "code",
        "colab": {}
      },
      "source": [
        "trainloader = torch.utils.data.DataLoader(mnist_trainset, batch_size=256,shuffle=True, num_workers=2)"
      ],
      "execution_count": 0,
      "outputs": []
    },
    {
      "cell_type": "code",
      "metadata": {
        "id": "7L7ocAcracri",
        "colab_type": "code",
        "colab": {}
      },
      "source": [
        "testloader = torch.utils.data.DataLoader(mnist_testset, batch_size=256,shuffle=False, num_workers=2)"
      ],
      "execution_count": 0,
      "outputs": []
    },
    {
      "cell_type": "code",
      "metadata": {
        "id": "pdhAr2p6acrm",
        "colab_type": "code",
        "colab": {}
      },
      "source": [
        "classes = ('zero', 'one')"
      ],
      "execution_count": 0,
      "outputs": []
    },
    {
      "cell_type": "code",
      "metadata": {
        "id": "jhUOj6Tnacrr",
        "colab_type": "code",
        "colab": {}
      },
      "source": [
        "dataiter = iter(trainloader)\n",
        "images, labels = dataiter.next()"
      ],
      "execution_count": 0,
      "outputs": []
    },
    {
      "cell_type": "code",
      "metadata": {
        "id": "vVgW5hBkacrv",
        "colab_type": "code",
        "outputId": "c99d571f-40c3-469f-b190-639ebdfc4bc9",
        "colab": {
          "base_uri": "https://localhost:8080/",
          "height": 34
        }
      },
      "source": [
        "images[:4].shape"
      ],
      "execution_count": 15,
      "outputs": [
        {
          "output_type": "execute_result",
          "data": {
            "text/plain": [
              "torch.Size([4, 1, 28, 28])"
            ]
          },
          "metadata": {
            "tags": []
          },
          "execution_count": 15
        }
      ]
    },
    {
      "cell_type": "code",
      "metadata": {
        "id": "nUtA80KCacr1",
        "colab_type": "code",
        "colab": {}
      },
      "source": [
        "def imshow(img):\n",
        "    img = img / 2 + 0.5     # unnormalize\n",
        "    npimg = img.numpy()\n",
        "    plt.imshow(np.transpose(npimg, (1, 2, 0)))\n",
        "    plt.show()"
      ],
      "execution_count": 0,
      "outputs": []
    },
    {
      "cell_type": "code",
      "metadata": {
        "id": "Xv34FfAdacr5",
        "colab_type": "code",
        "outputId": "261d70d1-8a09-437b-91fc-292cdcce2801",
        "colab": {
          "base_uri": "https://localhost:8080/",
          "height": 154
        }
      },
      "source": [
        "imshow(torchvision.utils.make_grid(images[:10]))\n",
        "print('GroundTruth: ', ' '.join('%5s' % classes[labels[j]] for j in range(10)))"
      ],
      "execution_count": 17,
      "outputs": [
        {
          "output_type": "display_data",
          "data": {
            "image/png": "[encoded data removed]",
            "text/plain": [
              "<Figure size 432x288 with 1 Axes>"
            ]
          },
          "metadata": {
            "tags": []
          }
        },
        {
          "output_type": "stream",
          "text": [
            "GroundTruth:   zero   one  zero   one   one   one  zero   one  zero   one\n"
          ],
          "name": "stdout"
        }
      ]
    },
    {
      "cell_type": "code",
      "metadata": {
        "id": "Ss-jhHRIacr-",
        "colab_type": "code",
        "colab": {}
      },
      "source": [
        "class Conv_module(nn.Module):\n",
        "    def __init__(self,inp_ch,f,s,k,pad):\n",
        "        super(Conv_module,self).__init__()\n",
        "        self.inp_ch = inp_ch\n",
        "        self.f = f\n",
        "        self.s = s \n",
        "        self.k = k \n",
        "        self.pad = pad\n",
        "        \n",
        "        \n",
        "        self.conv = nn.Conv2d(self.inp_ch,self.f,k,stride=s,padding=self.pad)\n",
        "        self.bn = nn.BatchNorm2d(self.f)\n",
        "        self.act = nn.ReLU()\n",
        "    def forward(self,x):\n",
        "        x = self.conv(x)\n",
        "        x = self.bn(x)\n",
        "        x = self.act(x)\n",
        "        return x"
      ],
      "execution_count": 0,
      "outputs": []
    },
    {
      "cell_type": "code",
      "metadata": {
        "id": "51c92MhjacsC",
        "colab_type": "code",
        "colab": {}
      },
      "source": [
        "class inception_module(nn.Module):\n",
        "    def __init__(self,inp_ch,f0,f1):\n",
        "        super(inception_module, self).__init__()\n",
        "        self.inp_ch = inp_ch\n",
        "        self.f0 = f0\n",
        "        self.f1 = f1\n",
        "        \n",
        "        \n",
        "        \n",
        "        self.conv1 = Conv_module(self.inp_ch,self.f0,1,1,pad=0)\n",
        "        self.conv3 = Conv_module(self.inp_ch,self.f1,1,3,pad=1)\n",
        "        #self.conv1 = nn.Conv2d(3,self.f0,1)\n",
        "        #self.conv3 = nn.Conv2d(3,self.f1,3,padding=1)\n",
        "    def forward(self,x):\n",
        "        x1 = self.conv1.forward(x)\n",
        "        x3 = self.conv3.forward(x)\n",
        "        #print(x1.shape,x3.shape)\n",
        "        \n",
        "        x = torch.cat((x1,x3),dim=1)\n",
        "        \n",
        "    \n",
        "        return x"
      ],
      "execution_count": 0,
      "outputs": []
    },
    {
      "cell_type": "code",
      "metadata": {
        "id": "6Tl67apKacsG",
        "colab_type": "code",
        "colab": {}
      },
      "source": [
        "class downsample_module(nn.Module):\n",
        "    def __init__(self,inp_ch,f):\n",
        "        super(downsample_module,self).__init__()\n",
        "        self.inp_ch = inp_ch\n",
        "        self.f = f\n",
        "        self.conv = Conv_module(self.inp_ch,self.f,2,3,pad=0)\n",
        "        self.pool = nn.MaxPool2d(3,stride=2,padding=0)\n",
        "    def forward(self,x):\n",
        "        x1 = self.conv(x)\n",
        "        #print(x1.shape)\n",
        "        x2 = self.pool(x)\n",
        "        #print(x2.shape)\n",
        "        x = torch.cat((x1,x2),dim=1)\n",
        "        \n",
        "        return x,x1"
      ],
      "execution_count": 0,
      "outputs": []
    },
    {
      "cell_type": "code",
      "metadata": {
        "id": "_RKEYiG7acsJ",
        "colab_type": "code",
        "colab": {}
      },
      "source": [
        "class inception_net(nn.Module):\n",
        "    def __init__(self):\n",
        "        super(inception_net,self).__init__()\n",
        "        self.conv1 = Conv_module(1,96,1,3,0)\n",
        "        \n",
        "        self.incept1 = inception_module(96,32,32)\n",
        "        self.incept2 = inception_module(64,32,48)\n",
        "        \n",
        "        self.downsample1 = downsample_module(80,80)\n",
        "        \n",
        "        self.incept3 = inception_module(160,112,48)\n",
        "        self.incept4 = inception_module(160,96,64)\n",
        "        self.incept5 = inception_module(160,80,80)\n",
        "        self.incept6 = inception_module(160,48,96)\n",
        "        \n",
        "        self.downsample2 = downsample_module(144,96)\n",
        "        \n",
        "        self.incept7 = inception_module(240,176,60)\n",
        "        self.incept8 = inception_module(236,176,60)\n",
        "        \n",
        "        self.pool = nn.AvgPool2d(5)\n",
        "        \n",
        "        \n",
        "        \n",
        "        self.linear = nn.Linear(236,10)\n",
        "    def forward(self,x):\n",
        "        x = self.conv1.forward(x)\n",
        "        #act1 = x\n",
        "        \n",
        "        x = self.incept1.forward(x)\n",
        "        #act2 = x\n",
        "        \n",
        "        x = self.incept2.forward(x)\n",
        "        #act3 = x\n",
        "        \n",
        "        x,act4 = self.downsample1.forward(x)\n",
        "        \n",
        "        x = self.incept3.forward(x)\n",
        "        #act5 = x\n",
        "        \n",
        "        x = self.incept4.forward(x)\n",
        "        #act6 = x\n",
        "        \n",
        "        x = self.incept5.forward(x)\n",
        "        #act7 = x\n",
        "        \n",
        "        x = self.incept6.forward(x)\n",
        "        #act8 = x\n",
        "        \n",
        "        x,act9 = self.downsample2.forward(x)\n",
        "        \n",
        "        x = self.incept7.forward(x)\n",
        "        #act10 = x\n",
        "        x = self.incept8.forward(x)\n",
        "        #act11 = x\n",
        "        #print(x.shape)\n",
        "        x = self.pool(x)\n",
        "        #print(x.shape)\n",
        "        x = x.view(-1,1*1*236)\n",
        "        x = self.linear(x) \n",
        "        return x"
      ],
      "execution_count": 0,
      "outputs": []
    },
    {
      "cell_type": "code",
      "metadata": {
        "id": "rByxqKdOacsM",
        "colab_type": "code",
        "colab": {
          "base_uri": "https://localhost:8080/",
          "height": 34
        },
        "outputId": "e83f4d12-5488-4fc8-f750-42d7d619ca2e"
      },
      "source": [
        "inc = inception_net()\n",
        "inc = inc.to(\"cuda\")"
      ],
      "execution_count": 22,
      "outputs": [
        {
          "output_type": "stream",
          "text": [
            "\r9920512it [00:30, 1211046.67it/s]                             "
          ],
          "name": "stderr"
        }
      ]
    },
    {
      "cell_type": "code",
      "metadata": {
        "id": "imWjagA2acsO",
        "colab_type": "code",
        "colab": {}
      },
      "source": [
        "criterion_inception = nn.CrossEntropyLoss()\n",
        "optimizer_inception = optim.SGD(inc.parameters(), lr=0.01, momentum=0.9)"
      ],
      "execution_count": 0,
      "outputs": []
    },
    {
      "cell_type": "code",
      "metadata": {
        "id": "r5mCNr38acsR",
        "colab_type": "code",
        "outputId": "66ab5290-17a9-424b-a10a-9fc560a9acbc",
        "colab": {
          "base_uri": "https://localhost:8080/",
          "height": 1000
        }
      },
      "source": [
        "acti = []\n",
        "loss_curi = []\n",
        "for epoch in range(60): # loop over the dataset multiple times\n",
        "    ep_lossi = []\n",
        "\n",
        "    running_loss = 0.0\n",
        "    for i, data in enumerate(trainloader, 0):\n",
        "        # get the inputs\n",
        "        inputs, labels = data\n",
        "        inputs, labels = inputs.to(\"cuda\"),labels.to(\"cuda\")\n",
        "\n",
        "        # zero the parameter gradients\n",
        "        optimizer_inception.zero_grad()\n",
        "\n",
        "        # forward + backward + optimize\n",
        "        outputs = inc(inputs)\n",
        "        loss = criterion_inception(outputs, labels)\n",
        "        loss.backward()\n",
        "        optimizer_inception.step()\n",
        "\n",
        "        # print statistics\n",
        "        running_loss += loss.item()\n",
        "        if i % 50 == 49:    # print every 50 mini-batches\n",
        "            print('[%d, %5d] loss: %.3f' %\n",
        "                  (epoch + 1, i + 1, running_loss / 50))\n",
        "            ep_lossi.append(running_loss/50) # loss per minibatch\n",
        "            running_loss = 0.0\n",
        "            \n",
        "    loss_curi.append(np.mean(ep_lossi))   #loss per epoch\n",
        "#     if (epoch%5 == 0):\n",
        "#         _,actis= inc(inputs)\n",
        "#         acti.append(actis)\n",
        "    \n",
        "            \n",
        "\n",
        "print('Finished Training')"
      ],
      "execution_count": 24,
      "outputs": [
        {
          "output_type": "stream",
          "text": [
            "[1,    50] loss: 0.751\n",
            "[1,   100] loss: 0.587\n",
            "[1,   150] loss: 0.583\n",
            "[1,   200] loss: 0.571\n",
            "[2,    50] loss: 0.562\n",
            "[2,   100] loss: 0.560\n",
            "[2,   150] loss: 0.569\n",
            "[2,   200] loss: 0.566\n",
            "[3,    50] loss: 0.554\n",
            "[3,   100] loss: 0.556\n",
            "[3,   150] loss: 0.553\n",
            "[3,   200] loss: 0.556\n",
            "[4,    50] loss: 0.549\n",
            "[4,   100] loss: 0.552\n",
            "[4,   150] loss: 0.553\n",
            "[4,   200] loss: 0.551\n",
            "[5,    50] loss: 0.542\n",
            "[5,   100] loss: 0.542\n",
            "[5,   150] loss: 0.547\n",
            "[5,   200] loss: 0.554\n",
            "[6,    50] loss: 0.543\n",
            "[6,   100] loss: 0.537\n",
            "[6,   150] loss: 0.551\n",
            "[6,   200] loss: 0.539\n",
            "[7,    50] loss: 0.524\n",
            "[7,   100] loss: 0.544\n",
            "[7,   150] loss: 0.541\n",
            "[7,   200] loss: 0.546\n",
            "[8,    50] loss: 0.518\n",
            "[8,   100] loss: 0.531\n",
            "[8,   150] loss: 0.542\n",
            "[8,   200] loss: 0.530\n",
            "[9,    50] loss: 0.507\n",
            "[9,   100] loss: 0.528\n",
            "[9,   150] loss: 0.526\n",
            "[9,   200] loss: 0.527\n",
            "[10,    50] loss: 0.493\n",
            "[10,   100] loss: 0.518\n",
            "[10,   150] loss: 0.520\n",
            "[10,   200] loss: 0.522\n",
            "[11,    50] loss: 0.480\n",
            "[11,   100] loss: 0.506\n",
            "[11,   150] loss: 0.512\n",
            "[11,   200] loss: 0.516\n",
            "[12,    50] loss: 0.466\n",
            "[12,   100] loss: 0.488\n",
            "[12,   150] loss: 0.505\n",
            "[12,   200] loss: 0.501\n",
            "[13,    50] loss: 0.448\n",
            "[13,   100] loss: 0.478\n",
            "[13,   150] loss: 0.487\n",
            "[13,   200] loss: 0.485\n",
            "[14,    50] loss: 0.423\n",
            "[14,   100] loss: 0.457\n",
            "[14,   150] loss: 0.477\n",
            "[14,   200] loss: 0.475\n",
            "[15,    50] loss: 0.392\n",
            "[15,   100] loss: 0.441\n",
            "[15,   150] loss: 0.456\n",
            "[15,   200] loss: 0.455\n",
            "[16,    50] loss: 0.375\n",
            "[16,   100] loss: 0.425\n",
            "[16,   150] loss: 0.432\n",
            "[16,   200] loss: 0.439\n",
            "[17,    50] loss: 0.346\n",
            "[17,   100] loss: 0.383\n",
            "[17,   150] loss: 0.408\n",
            "[17,   200] loss: 0.408\n",
            "[18,    50] loss: 0.316\n",
            "[18,   100] loss: 0.348\n",
            "[18,   150] loss: 0.368\n",
            "[18,   200] loss: 0.396\n",
            "[19,    50] loss: 0.281\n",
            "[19,   100] loss: 0.319\n",
            "[19,   150] loss: 0.360\n",
            "[19,   200] loss: 0.376\n",
            "[20,    50] loss: 0.270\n",
            "[20,   100] loss: 0.292\n",
            "[20,   150] loss: 0.319\n",
            "[20,   200] loss: 0.335\n",
            "[21,    50] loss: 0.249\n",
            "[21,   100] loss: 0.269\n",
            "[21,   150] loss: 0.287\n",
            "[21,   200] loss: 0.310\n",
            "[22,    50] loss: 0.213\n",
            "[22,   100] loss: 0.237\n",
            "[22,   150] loss: 0.279\n",
            "[22,   200] loss: 0.282\n",
            "[23,    50] loss: 0.189\n",
            "[23,   100] loss: 0.219\n",
            "[23,   150] loss: 0.241\n",
            "[23,   200] loss: 0.263\n",
            "[24,    50] loss: 0.161\n",
            "[24,   100] loss: 0.171\n",
            "[24,   150] loss: 0.217\n",
            "[24,   200] loss: 0.226\n",
            "[25,    50] loss: 0.148\n",
            "[25,   100] loss: 0.159\n",
            "[25,   150] loss: 0.180\n",
            "[25,   200] loss: 0.230\n",
            "[26,    50] loss: 0.129\n",
            "[26,   100] loss: 0.145\n",
            "[26,   150] loss: 0.170\n",
            "[26,   200] loss: 0.183\n",
            "[27,    50] loss: 0.118\n",
            "[27,   100] loss: 0.120\n",
            "[27,   150] loss: 0.148\n",
            "[27,   200] loss: 0.188\n",
            "[28,    50] loss: 0.113\n",
            "[28,   100] loss: 0.110\n",
            "[28,   150] loss: 0.121\n",
            "[28,   200] loss: 0.130\n",
            "[29,    50] loss: 0.106\n",
            "[29,   100] loss: 0.106\n",
            "[29,   150] loss: 0.120\n",
            "[29,   200] loss: 0.125\n",
            "[30,    50] loss: 0.099\n",
            "[30,   100] loss: 0.096\n",
            "[30,   150] loss: 0.107\n",
            "[30,   200] loss: 0.124\n",
            "[31,    50] loss: 0.082\n",
            "[31,   100] loss: 0.077\n",
            "[31,   150] loss: 0.095\n",
            "[31,   200] loss: 0.109\n",
            "[32,    50] loss: 0.074\n",
            "[32,   100] loss: 0.076\n",
            "[32,   150] loss: 0.084\n",
            "[32,   200] loss: 0.106\n",
            "[33,    50] loss: 0.068\n",
            "[33,   100] loss: 0.064\n",
            "[33,   150] loss: 0.076\n",
            "[33,   200] loss: 0.081\n",
            "[34,    50] loss: 0.066\n",
            "[34,   100] loss: 0.055\n",
            "[34,   150] loss: 0.058\n",
            "[34,   200] loss: 0.078\n",
            "[35,    50] loss: 0.070\n",
            "[35,   100] loss: 0.064\n",
            "[35,   150] loss: 0.064\n",
            "[35,   200] loss: 0.068\n",
            "[36,    50] loss: 0.052\n",
            "[36,   100] loss: 0.049\n",
            "[36,   150] loss: 0.059\n",
            "[36,   200] loss: 0.069\n",
            "[37,    50] loss: 0.042\n",
            "[37,   100] loss: 0.048\n",
            "[37,   150] loss: 0.044\n",
            "[37,   200] loss: 0.056\n",
            "[38,    50] loss: 0.036\n",
            "[38,   100] loss: 0.039\n",
            "[38,   150] loss: 0.052\n",
            "[38,   200] loss: 0.058\n",
            "[39,    50] loss: 0.051\n",
            "[39,   100] loss: 0.046\n",
            "[39,   150] loss: 0.049\n",
            "[39,   200] loss: 0.050\n",
            "[40,    50] loss: 0.037\n",
            "[40,   100] loss: 0.036\n",
            "[40,   150] loss: 0.043\n",
            "[40,   200] loss: 0.047\n",
            "[41,    50] loss: 0.040\n",
            "[41,   100] loss: 0.042\n",
            "[41,   150] loss: 0.039\n",
            "[41,   200] loss: 0.042\n",
            "[42,    50] loss: 0.038\n",
            "[42,   100] loss: 0.033\n",
            "[42,   150] loss: 0.035\n",
            "[42,   200] loss: 0.032\n",
            "[43,    50] loss: 0.028\n",
            "[43,   100] loss: 0.024\n",
            "[43,   150] loss: 0.024\n",
            "[43,   200] loss: 0.026\n",
            "[44,    50] loss: 0.030\n",
            "[44,   100] loss: 0.025\n",
            "[44,   150] loss: 0.028\n",
            "[44,   200] loss: 0.032\n",
            "[45,    50] loss: 0.022\n",
            "[45,   100] loss: 0.027\n",
            "[45,   150] loss: 0.024\n",
            "[45,   200] loss: 0.033\n",
            "[46,    50] loss: 0.026\n",
            "[46,   100] loss: 0.029\n",
            "[46,   150] loss: 0.034\n",
            "[46,   200] loss: 0.036\n",
            "[47,    50] loss: 0.029\n",
            "[47,   100] loss: 0.032\n",
            "[47,   150] loss: 0.036\n",
            "[47,   200] loss: 0.033\n",
            "[48,    50] loss: 0.026\n",
            "[48,   100] loss: 0.023\n",
            "[48,   150] loss: 0.026\n",
            "[48,   200] loss: 0.027\n",
            "[49,    50] loss: 0.021\n",
            "[49,   100] loss: 0.021\n",
            "[49,   150] loss: 0.021\n",
            "[49,   200] loss: 0.021\n",
            "[50,    50] loss: 0.018\n",
            "[50,   100] loss: 0.017\n",
            "[50,   150] loss: 0.017\n",
            "[50,   200] loss: 0.015\n",
            "[51,    50] loss: 0.024\n",
            "[51,   100] loss: 0.022\n",
            "[51,   150] loss: 0.022\n",
            "[51,   200] loss: 0.021\n",
            "[52,    50] loss: 0.023\n",
            "[52,   100] loss: 0.023\n",
            "[52,   150] loss: 0.024\n",
            "[52,   200] loss: 0.026\n",
            "[53,    50] loss: 0.022\n",
            "[53,   100] loss: 0.022\n",
            "[53,   150] loss: 0.025\n",
            "[53,   200] loss: 0.030\n",
            "[54,    50] loss: 0.024\n",
            "[54,   100] loss: 0.021\n",
            "[54,   150] loss: 0.021\n",
            "[54,   200] loss: 0.020\n",
            "[55,    50] loss: 0.012\n",
            "[55,   100] loss: 0.013\n",
            "[55,   150] loss: 0.013\n",
            "[55,   200] loss: 0.017\n",
            "[56,    50] loss: 0.009\n",
            "[56,   100] loss: 0.012\n",
            "[56,   150] loss: 0.010\n",
            "[56,   200] loss: 0.014\n",
            "[57,    50] loss: 0.011\n",
            "[57,   100] loss: 0.013\n",
            "[57,   150] loss: 0.010\n",
            "[57,   200] loss: 0.011\n",
            "[58,    50] loss: 0.008\n",
            "[58,   100] loss: 0.005\n",
            "[58,   150] loss: 0.005\n",
            "[58,   200] loss: 0.006\n",
            "[59,    50] loss: 0.003\n",
            "[59,   100] loss: 0.002\n",
            "[59,   150] loss: 0.002\n",
            "[59,   200] loss: 0.002\n",
            "[60,    50] loss: 0.001\n",
            "[60,   100] loss: 0.001\n",
            "[60,   150] loss: 0.001\n",
            "[60,   200] loss: 0.001\n",
            "Finished Training\n"
          ],
          "name": "stdout"
        }
      ]
    },
    {
      "cell_type": "code",
      "metadata": {
        "id": "IxXbhlbEacsW",
        "colab_type": "code",
        "outputId": "89391359-553d-47bc-909f-f6e6da94ecf8",
        "colab": {
          "base_uri": "https://localhost:8080/",
          "height": 34
        }
      },
      "source": [
        "correct = 0\n",
        "total = 0\n",
        "with torch.no_grad():\n",
        "    for data in trainloader:\n",
        "        images, labels = data\n",
        "        images, labels = images.to(\"cuda\"), labels.to(\"cuda\")\n",
        "        outputs = inc(images)\n",
        "        _, predicted = torch.max(outputs.data, 1)\n",
        "        total += labels.size(0)\n",
        "        correct += (predicted == labels).sum().item()\n",
        "\n",
        "print('Accuracy of the network on the 60000 train images: %d %%' % (\n",
        "    100 * correct / total))"
      ],
      "execution_count": 25,
      "outputs": [
        {
          "output_type": "stream",
          "text": [
            "Accuracy of the network on the 60000 train images: 100 %\n"
          ],
          "name": "stdout"
        }
      ]
    },
    {
      "cell_type": "code",
      "metadata": {
        "id": "U2kQXLzgacsa",
        "colab_type": "code",
        "outputId": "ee6da3c5-e478-4923-f93e-317ee5bac1eb",
        "colab": {
          "base_uri": "https://localhost:8080/",
          "height": 34
        }
      },
      "source": [
        "total,correct"
      ],
      "execution_count": 26,
      "outputs": [
        {
          "output_type": "execute_result",
          "data": {
            "text/plain": [
              "(60000, 60000)"
            ]
          },
          "metadata": {
            "tags": []
          },
          "execution_count": 26
        }
      ]
    },
    {
      "cell_type": "code",
      "metadata": {
        "id": "5IcmEl2lacsd",
        "colab_type": "code",
        "outputId": "dbccb5cd-a4f5-458a-c7b5-d848cfa64234",
        "colab": {
          "base_uri": "https://localhost:8080/",
          "height": 34
        }
      },
      "source": [
        "correct = 0\n",
        "total = 0\n",
        "out = []\n",
        "pred = []\n",
        "with torch.no_grad():\n",
        "    for data in testloader:\n",
        "        images, labels = data\n",
        "        images, labels = images.to(\"cuda\"),labels.to(\"cuda\")\n",
        "        out.append(labels.cpu().numpy())\n",
        "        outputs= inc(images)\n",
        "        _, predicted = torch.max(outputs.data, 1)\n",
        "        pred.append(predicted.cpu().numpy())\n",
        "        total += labels.size(0)\n",
        "        correct += (predicted == labels).sum().item()\n",
        "\n",
        "print('Accuracy of the network on the 10000 test images: %d %%' % (\n",
        "    100 * correct / total))"
      ],
      "execution_count": 27,
      "outputs": [
        {
          "output_type": "stream",
          "text": [
            "Accuracy of the network on the 10000 test images: 20 %\n"
          ],
          "name": "stdout"
        }
      ]
    },
    {
      "cell_type": "code",
      "metadata": {
        "id": "KrlBRcSQacsg",
        "colab_type": "code",
        "colab": {}
      },
      "source": [
        "out = np.concatenate(out,axis=0)"
      ],
      "execution_count": 0,
      "outputs": []
    },
    {
      "cell_type": "code",
      "metadata": {
        "id": "EWyBhOPlacsi",
        "colab_type": "code",
        "colab": {}
      },
      "source": [
        "pred = np.concatenate(pred,axis=0)"
      ],
      "execution_count": 0,
      "outputs": []
    },
    {
      "cell_type": "code",
      "metadata": {
        "id": "IJ1F7Lfdacsl",
        "colab_type": "code",
        "outputId": "bdf7ec1c-4769-470e-9600-cdd6033491cc",
        "colab": {
          "base_uri": "https://localhost:8080/",
          "height": 34
        }
      },
      "source": [
        "index = np.logical_or(out ==1,out==0)\n",
        "print(index.shape)"
      ],
      "execution_count": 30,
      "outputs": [
        {
          "output_type": "stream",
          "text": [
            "(10000,)\n"
          ],
          "name": "stdout"
        }
      ]
    },
    {
      "cell_type": "code",
      "metadata": {
        "id": "h7PmLPkGacsn",
        "colab_type": "code",
        "outputId": "c3a639cb-677e-499b-94aa-0b8204594350",
        "colab": {
          "base_uri": "https://localhost:8080/",
          "height": 34
        }
      },
      "source": [
        "acc = sum(out[index] == pred[index])/sum(index)\n",
        "print('Accuracy of the network on the 10000 test images: %d %%' % (\n",
        "    100*acc))"
      ],
      "execution_count": 31,
      "outputs": [
        {
          "output_type": "stream",
          "text": [
            "Accuracy of the network on the 10000 test images: 99 %\n"
          ],
          "name": "stdout"
        }
      ]
    },
    {
      "cell_type": "code",
      "metadata": {
        "id": "fvCi8x41acsq",
        "colab_type": "code",
        "outputId": "ebbf86d3-10ee-40f3-9f77-c3342124374c",
        "colab": {
          "base_uri": "https://localhost:8080/",
          "height": 34
        }
      },
      "source": [
        "\n",
        "sum(index)"
      ],
      "execution_count": 32,
      "outputs": [
        {
          "output_type": "execute_result",
          "data": {
            "text/plain": [
              "2115"
            ]
          },
          "metadata": {
            "tags": []
          },
          "execution_count": 32
        }
      ]
    },
    {
      "cell_type": "code",
      "metadata": {
        "id": "bdGNgi62acss",
        "colab_type": "code",
        "outputId": "5473aff4-759a-476a-efd9-af777c3f97d4",
        "colab": {
          "base_uri": "https://localhost:8080/",
          "height": 34
        }
      },
      "source": [
        "import random\n",
        "random.sample([1,2,3,4,5,6,7,8],5)"
      ],
      "execution_count": 33,
      "outputs": [
        {
          "output_type": "execute_result",
          "data": {
            "text/plain": [
              "[3, 4, 2, 7, 8]"
            ]
          },
          "metadata": {
            "tags": []
          },
          "execution_count": 33
        }
      ]
    },
    {
      "cell_type": "code",
      "metadata": {
        "id": "KBZqLh7heULT",
        "colab_type": "code",
        "colab": {}
      },
      "source": [
        "torch.save(inc.state_dict(),\"/content/drive/My Drive/model_full_True.pkl\")"
      ],
      "execution_count": 0,
      "outputs": []
    },
    {
      "cell_type": "code",
      "metadata": {
        "id": "JgLuOIeLeUHk",
        "colab_type": "code",
        "colab": {}
      },
      "source": [
        " "
      ],
      "execution_count": 0,
      "outputs": []
    },
    {
      "cell_type": "code",
      "metadata": {
        "id": "pZhSFZLeeXeO",
        "colab_type": "code",
        "colab": {}
      },
      "source": [
        ""
      ],
      "execution_count": 0,
      "outputs": []
    },
    {
      "cell_type": "markdown",
      "metadata": {
        "id": "u6XhWXz3sYcx",
        "colab_type": "text"
      },
      "source": [
        "|true training data  | Corr Training Data | Test Accuracy | Test Accuracy 0-1 | \n",
        "| ------------------ | ------------------ | ------------- | ----------------- |\n",
        "| 500   | 47335  | 19  | 90  | \n",
        "| 1000  | 47335  | 19  |  92 | \n",
        "| 2000  | 47335  | 20  | 95  | \n",
        "| 4000  | 47335  | 20  |  97 | \n",
        "| 6000  | 47335  | 20  | 97  | \n",
        "| 8000  | 47335  | 20  |  98 | \n",
        "| 12665 | 47335  | 20  | 99  | "
      ]
    },
    {
      "cell_type": "markdown",
      "metadata": {
        "id": "d05DCw3Jw9Am",
        "colab_type": "text"
      },
      "source": [
        "|   Total Training Data       |   Training Accuracy      |\n",
        "|---------------------------- | ------------------------ |\n",
        "| 47835         | 100 |\n",
        "| 48335         | 100 |\n",
        "| 49335         | 100 | \n",
        "| 51335         | 100 |\n",
        "| 53335         | 100 |\n",
        "| 55335         | 100 |\n",
        "| 60000         | 100 |"
      ]
    },
    {
      "cell_type": "code",
      "metadata": {
        "id": "NuAy-cU0sY9z",
        "colab_type": "code",
        "colab": {}
      },
      "source": [
        ""
      ],
      "execution_count": 0,
      "outputs": []
    }
  ]
}